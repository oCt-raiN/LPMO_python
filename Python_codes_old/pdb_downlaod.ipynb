{
  "nbformat": 4,
  "nbformat_minor": 0,
  "metadata": {
    "colab": {
      "provenance": []
    },
    "kernelspec": {
      "name": "python3",
      "display_name": "Python 3"
    },
    "language_info": {
      "name": "python"
    }
  },
  "cells": [
    {
      "cell_type": "code",
      "source": [
        "!pip install biopython"
      ],
      "metadata": {
        "colab": {
          "base_uri": "https://localhost:8080/"
        },
        "id": "xkn30_5VfxzZ",
        "outputId": "c6d710d3-d714-4774-fad3-744dfabc7ff6"
      },
      "execution_count": 1,
      "outputs": [
        {
          "output_type": "stream",
          "name": "stdout",
          "text": [
            "Collecting biopython\n",
            "  Downloading biopython-1.84-cp310-cp310-manylinux_2_17_x86_64.manylinux2014_x86_64.whl.metadata (12 kB)\n",
            "Requirement already satisfied: numpy in /usr/local/lib/python3.10/dist-packages (from biopython) (1.26.4)\n",
            "Downloading biopython-1.84-cp310-cp310-manylinux_2_17_x86_64.manylinux2014_x86_64.whl (3.2 MB)\n",
            "\u001b[?25l   \u001b[90m━━━━━━━━━━━━━━━━━━━━━━━━━━━━━━━━━━━━━━━━\u001b[0m \u001b[32m0.0/3.2 MB\u001b[0m \u001b[31m?\u001b[0m eta \u001b[36m-:--:--\u001b[0m\r\u001b[2K   \u001b[91m━━━━━━━━━━━━━━━━━━━━━━━━━━━━━━━━━━━━━━━\u001b[0m\u001b[91m╸\u001b[0m \u001b[32m3.2/3.2 MB\u001b[0m \u001b[31m96.5 MB/s\u001b[0m eta \u001b[36m0:00:01\u001b[0m\r\u001b[2K   \u001b[90m━━━━━━━━━━━━━━━━━━━━━━━━━━━━━━━━━━━━━━━━\u001b[0m \u001b[32m3.2/3.2 MB\u001b[0m \u001b[31m53.9 MB/s\u001b[0m eta \u001b[36m0:00:00\u001b[0m\n",
            "\u001b[?25hInstalling collected packages: biopython\n",
            "Successfully installed biopython-1.84\n"
          ]
        }
      ]
    },
    {
      "cell_type": "code",
      "execution_count": 8,
      "metadata": {
        "colab": {
          "base_uri": "https://localhost:8080/",
          "height": 211
        },
        "id": "mdjxa5Szdpul",
        "outputId": "aafa9805-ff00-4c74-8b88-b5b17551b8cc"
      },
      "outputs": [
        {
          "output_type": "stream",
          "name": "stdout",
          "text": [
            "Structure exists: 'PDB/pdb4b97.ent' \n",
            "Structure exists: 'PDB/pdb4iph.ent' \n"
          ]
        },
        {
          "output_type": "error",
          "ename": "FileNotFoundError",
          "evalue": "[Errno 2] No such file or directory: '/content/PDB/pdb4IPH.ent' -> '/content/PDB/4IPH.pdb'",
          "traceback": [
            "\u001b[0;31m---------------------------------------------------------------------------\u001b[0m",
            "\u001b[0;31mFileNotFoundError\u001b[0m                         Traceback (most recent call last)",
            "\u001b[0;32m<ipython-input-8-8583491cfc15>\u001b[0m in \u001b[0;36m<cell line: 7>\u001b[0;34m()\u001b[0m\n\u001b[1;32m      9\u001b[0m     \u001b[0mf_name\u001b[0m \u001b[0;34m=\u001b[0m \u001b[0;34m\"/content/PDB/pdb\"\u001b[0m\u001b[0;34m+\u001b[0m\u001b[0mi\u001b[0m\u001b[0;34m+\u001b[0m\u001b[0;34m\".ent\"\u001b[0m\u001b[0;34m\u001b[0m\u001b[0;34m\u001b[0m\u001b[0m\n\u001b[1;32m     10\u001b[0m     \u001b[0mr_name\u001b[0m \u001b[0;34m=\u001b[0m \u001b[0;34m\"/content/PDB/\"\u001b[0m\u001b[0;34m+\u001b[0m\u001b[0mi\u001b[0m\u001b[0;34m+\u001b[0m\u001b[0;34m\".pdb\"\u001b[0m\u001b[0;34m\u001b[0m\u001b[0;34m\u001b[0m\u001b[0m\n\u001b[0;32m---> 11\u001b[0;31m     \u001b[0mos\u001b[0m\u001b[0;34m.\u001b[0m\u001b[0mrename\u001b[0m\u001b[0;34m(\u001b[0m\u001b[0mf_name\u001b[0m\u001b[0;34m,\u001b[0m\u001b[0mr_name\u001b[0m\u001b[0;34m)\u001b[0m\u001b[0;34m\u001b[0m\u001b[0;34m\u001b[0m\u001b[0m\n\u001b[0m",
            "\u001b[0;31mFileNotFoundError\u001b[0m: [Errno 2] No such file or directory: '/content/PDB/pdb4IPH.ent' -> '/content/PDB/4IPH.pdb'"
          ]
        }
      ],
      "source": [
        "import os\n",
        "import Bio\n",
        "from Bio.PDB import PDBList\n",
        "'''Selecting structures from PDB'''\n",
        "pdbl = PDBList()\n",
        "PDBlist2=['4b97','4IPH','4HNO','4HG7','4IRG','4G4W','4JKW','4IPC','2YPM','4KEI']\n",
        "for i in PDBlist2:\n",
        "    pdbl.retrieve_pdb_file(i,pdir='PDB', file_format=\"pdb\")\n",
        "    f_name = \"/content/PDB/pdb\"+i.lower()+\".ent\"\n",
        "    r_name = \"/content/PDB/\"+i.lower()+\".pdb\"\n",
        "    os.rename(f_name,r_name)"
      ]
    },
    {
      "cell_type": "code",
      "source": [
        "import os\n",
        "for i in PDBlist2:\n",
        "  link=\"https://files.rcsb.org/download/\"+i\n",
        "  print(link)"
      ],
      "metadata": {
        "id": "FgsQxMjoopNw",
        "colab": {
          "base_uri": "https://localhost:8080/"
        },
        "outputId": "c2a41647-35fe-4d76-f80f-8bc5cf09eb80"
      },
      "execution_count": null,
      "outputs": [
        {
          "output_type": "stream",
          "name": "stdout",
          "text": [
            "https://files.rcsb.org/download/4B97\n",
            "https://files.rcsb.org/download/4IPH\n",
            "https://files.rcsb.org/download/4HNO\n",
            "https://files.rcsb.org/download/4HG7\n",
            "https://files.rcsb.org/download/4IRG\n",
            "https://files.rcsb.org/download/4G4W\n",
            "https://files.rcsb.org/download/4JKW\n",
            "https://files.rcsb.org/download/4IPC\n",
            "https://files.rcsb.org/download/2YPM\n",
            "https://files.rcsb.org/download/4KEI\n"
          ]
        }
      ]
    },
    {
      "cell_type": "code",
      "source": [
        "!wget https://files.rcsb.org/download/4hhd.pdb"
      ],
      "metadata": {
        "colab": {
          "base_uri": "https://localhost:8080/"
        },
        "id": "usldEckyhAd9",
        "outputId": "cdec2856-00fe-4505-f8aa-4f0187dd658f"
      },
      "execution_count": null,
      "outputs": [
        {
          "output_type": "stream",
          "name": "stdout",
          "text": [
            "--2023-02-23 08:30:41--  https://files.rcsb.org/download/4hhd.pdb\n",
            "Resolving files.rcsb.org (files.rcsb.org)... 128.6.158.70\n",
            "Connecting to files.rcsb.org (files.rcsb.org)|128.6.158.70|:443... connected.\n",
            "HTTP request sent, awaiting response... 200 OK\n",
            "Length: unspecified [application/octet-stream]\n",
            "Saving to: ‘4hhd.pdb’\n",
            "\n",
            "\r4hhd.pdb                [<=>                 ]       0  --.-KB/s               \r4hhd.pdb                [ <=>                ] 480.86K  --.-KB/s    in 0.1s    \n",
            "\n",
            "2023-02-23 08:30:42 (4.82 MB/s) - ‘4hhd.pdb’ saved [492399]\n",
            "\n"
          ]
        }
      ]
    }
  ]
}