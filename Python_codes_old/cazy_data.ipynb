{
  "nbformat": 4,
  "nbformat_minor": 0,
  "metadata": {
    "colab": {
      "provenance": []
    },
    "kernelspec": {
      "name": "python3",
      "display_name": "Python 3"
    },
    "language_info": {
      "name": "python"
    }
  },
  "cells": [
    {
      "cell_type": "code",
      "execution_count": null,
      "metadata": {
        "id": "knWD7yCxcW_I"
      },
      "outputs": [],
      "source": [
        "import pandas as pd\n",
        "df9 = pd.read_csv(\"/content/drive/MyDrive/Machine_learning/AA9.txt\",sep = \"\\t\")\n",
        "df10 = pd.read_csv(\"/content/drive/MyDrive/Machine_learning/AA10.txt\",sep = \"\\t\")\n",
        "df11 = pd.read_csv(\"/content/drive/MyDrive/Machine_learning/AA11.txt\",sep = \"\\t\")\n",
        "df13 = pd.read_csv(\"/content/drive/MyDrive/Machine_learning/AA13.txt\",sep = \"\\t\")\n",
        "df14 = pd.read_csv(\"/content/drive/MyDrive/Machine_learning/AA14.txt\",sep = \"\\t\")\n",
        "df15 = pd.read_csv(\"/content/drive/MyDrive/Machine_learning/AA15.txt\",sep = \"\\t\")\n",
        "df16 = pd.read_csv(\"/content/drive/MyDrive/Machine_learning/AA16.txt\",sep = \"\\t\")\n",
        "df17 = pd.read_csv(\"/content/drive/MyDrive/Machine_learning/AA17.txt\",sep = \"\\t\")"
      ]
    },
    {
      "cell_type": "code",
      "source": [
        "df17"
      ],
      "metadata": {
        "id": "mNnoGeLRdAyp",
        "colab": {
          "base_uri": "https://localhost:8080/",
          "height": 166
        },
        "outputId": "2fdf7f4f-be94-4509-b4ef-1421ecea6847"
      },
      "execution_count": null,
      "outputs": [
        {
          "output_type": "error",
          "ename": "NameError",
          "evalue": "ignored",
          "traceback": [
            "\u001b[0;31m---------------------------------------------------------------------------\u001b[0m",
            "\u001b[0;31mNameError\u001b[0m                                 Traceback (most recent call last)",
            "\u001b[0;32m<ipython-input-2-db37728c9794>\u001b[0m in \u001b[0;36m<module>\u001b[0;34m\u001b[0m\n\u001b[0;32m----> 1\u001b[0;31m \u001b[0mdf17\u001b[0m\u001b[0;34m\u001b[0m\u001b[0;34m\u001b[0m\u001b[0m\n\u001b[0m",
            "\u001b[0;31mNameError\u001b[0m: name 'df17' is not defined"
          ]
        }
      ]
    },
    {
      "cell_type": "code",
      "source": [
        "!pip install biopython"
      ],
      "metadata": {
        "id": "iG1RiIc2dTsq",
        "colab": {
          "base_uri": "https://localhost:8080/"
        },
        "outputId": "94aa6ac6-4ed9-4b75-aec9-b614a5031a6a"
      },
      "execution_count": null,
      "outputs": [
        {
          "output_type": "stream",
          "name": "stdout",
          "text": [
            "Looking in indexes: https://pypi.org/simple, https://us-python.pkg.dev/colab-wheels/public/simple/\n",
            "Collecting biopython\n",
            "  Downloading biopython-1.81-cp38-cp38-manylinux_2_17_x86_64.manylinux2014_x86_64.whl (3.1 MB)\n",
            "\u001b[2K     \u001b[90m━━━━━━━━━━━━━━━━━━━━━━━━━━━━━━━━━━━━━━━━\u001b[0m \u001b[32m3.1/3.1 MB\u001b[0m \u001b[31m23.7 MB/s\u001b[0m eta \u001b[36m0:00:00\u001b[0m\n",
            "\u001b[?25hRequirement already satisfied: numpy in /usr/local/lib/python3.8/dist-packages (from biopython) (1.22.4)\n",
            "Installing collected packages: biopython\n",
            "Successfully installed biopython-1.81\n"
          ]
        }
      ]
    },
    {
      "cell_type": "code",
      "source": [
        "from Bio import *\n",
        "import Bio.GenBank.Record as bio\n",
        "\n"
      ],
      "metadata": {
        "id": "mRS7hl5SfdOQ"
      },
      "execution_count": null,
      "outputs": []
    },
    {
      "cell_type": "code",
      "source": [
        "from Bio import Entrez\n",
        "from Bio import SeqIO\n",
        "Entrez.email=\"123121011@sastra.ac.in\""
      ],
      "metadata": {
        "id": "0fJXq0DshIyE"
      },
      "execution_count": null,
      "outputs": []
    },
    {
      "cell_type": "code",
      "source": [
        "handle=Entrez.efetch(db='protein', id = \"AST24379.1\" , rettype=\"fasta\")"
      ],
      "metadata": {
        "id": "nIJ0aD-ehV0x"
      },
      "execution_count": null,
      "outputs": []
    },
    {
      "cell_type": "code",
      "source": [
        "a= handle.read()"
      ],
      "metadata": {
        "id": "RwYe59Y0iffX"
      },
      "execution_count": null,
      "outputs": []
    },
    {
      "cell_type": "code",
      "source": [
        "import re\n",
        "k=\"\"\n",
        "for i in b:\n",
        "  txt = i\n",
        "  if re.search(\"^[A-Z]\",txt) :\n",
        "    k+=i\n",
        "print(k)"
      ],
      "metadata": {
        "id": "fJOs2BvZ8Fzk"
      },
      "execution_count": null,
      "outputs": []
    },
    {
      "cell_type": "code",
      "source": [
        "import re"
      ],
      "metadata": {
        "id": "cVeSTnIi-knj"
      },
      "execution_count": null,
      "outputs": []
    },
    {
      "cell_type": "code",
      "source": [
        "from Bio import Entrez\n",
        "from Bio import SeqIO\n",
        "import re\n",
        "import pandas as pd\n",
        "\n",
        "\n",
        "Entrez.email=\"123121011@sastra.ac.in\"\n",
        "\n",
        "df9 = pd.read_csv(\"/content/drive/MyDrive/Machine_learning/AA9.txt\",sep = \"\\t\")\n",
        "aa9=[]\n",
        "for i in range(0,len(df9[\"Genbankid\"])):\n",
        "  l=[]\n",
        "  handle = Entrez.efetch(db='protein', id = df9[\"Genbankid\"][i] , rettype=\"fasta\")\n",
        "  a = handle.read()\n",
        "  l = a\n",
        "  k=\"\"\n",
        "  b = l.split(\"\\n\")\n",
        "  for j in b:\n",
        "    txt = j\n",
        "    if re.search(\"^[A-Z]\",txt) :\n",
        "      k+=j\n",
        "  aa9.append(k)\n",
        "df9[\"seq\"]=aa9"
      ],
      "metadata": {
        "id": "8hoDXQFiithM"
      },
      "execution_count": null,
      "outputs": []
    },
    {
      "cell_type": "code",
      "source": [
        "aa10=[]\n",
        "for i in range(0,len(df10[\"Genbankid\"])):\n",
        "  l=[]\n",
        "  try:\n",
        "    handle = Entrez.efetch(db='protein', id = df10[\"Genbankid\"][i] , rettype=\"fasta\")\n",
        "    a = handle.read()\n",
        "    l = a\n",
        "    k=\"\"\n",
        "    b = l.split(\"\\n\")\n",
        "    for j in b:\n",
        "      txt = j\n",
        "      if re.search(\"^[A-Z]\",txt) :\n",
        "        k+=j\n",
        "  except:\n",
        "    k=\"sequence not found\"\n",
        "  aa10.append(k)\n",
        "df10[\"seq\"]=aa10"
      ],
      "metadata": {
        "id": "UXl6jxzx52P1"
      },
      "execution_count": null,
      "outputs": []
    },
    {
      "cell_type": "code",
      "source": [
        "len(aa10)"
      ],
      "metadata": {
        "id": "YZ4-1yiLJDau"
      },
      "execution_count": null,
      "outputs": []
    },
    {
      "cell_type": "code",
      "source": [
        "aa11=[]\n",
        "for i in range(0,len(df11[\"Genbankid\"])):\n",
        "  l=[]\n",
        "  try:\n",
        "    handle = Entrez.efetch(db='protein', id = df11[\"Genbankid\"][i] , rettype=\"fasta\")\n",
        "    a = handle.read()\n",
        "    l = a\n",
        "    k=\"\"\n",
        "    b = l.split(\"\\n\")\n",
        "    for j in b:\n",
        "      txt = j\n",
        "      if re.search(\"^[A-Z]\",txt) :\n",
        "        k+=j\n",
        "  except:\n",
        "    k = \"sequence not found\"\n",
        "  aa11.append(k)\n",
        "df11[\"seq\"]=aa11"
      ],
      "metadata": {
        "id": "Gzag1PwN6qKR"
      },
      "execution_count": null,
      "outputs": []
    },
    {
      "cell_type": "code",
      "source": [
        "aa13=[]\n",
        "for i in range(0,len(df13[\"Genbankid\"])):\n",
        "  l=[]\n",
        "  try:\n",
        "    handle = Entrez.efetch(db='protein', id = df13[\"Genbankid\"][i] , rettype=\"fasta\")\n",
        "    a = handle.read()\n",
        "    l = a\n",
        "    k=\"\"\n",
        "    b = l.split(\"\\n\")\n",
        "    for j in b:\n",
        "      txt = j\n",
        "      if re.search(\"^[A-Z]\",txt) :\n",
        "        k+=j\n",
        "  except:\n",
        "    k = \"sequence not found\"\n",
        "  aa13.append(k)\n",
        "df13[\"seq\"]=aa13"
      ],
      "metadata": {
        "id": "LmI1ldOe6x5N"
      },
      "execution_count": null,
      "outputs": []
    },
    {
      "cell_type": "code",
      "source": [
        "aa14=[]\n",
        "for i in range(0,len(df14[\"Genbankid\"])):\n",
        "  l=[]\n",
        "  try:\n",
        "    handle = Entrez.efetch(db='protein', id = df14[\"Genbankid\"][i] , rettype=\"fasta\")\n",
        "    a = handle.read()\n",
        "    l = a\n",
        "    k=\"\"\n",
        "    b = l.split(\"\\n\")\n",
        "    for j in b:\n",
        "      txt = j\n",
        "      if re.search(\"^[A-Z]\",txt) :\n",
        "        k+=j\n",
        "  except:\n",
        "    k=\"Sequence not found\"\n",
        "  aa14.append(k)\n",
        "df14[\"seq\"]=aa14"
      ],
      "metadata": {
        "id": "mx73YeDq66V9"
      },
      "execution_count": null,
      "outputs": []
    },
    {
      "cell_type": "code",
      "source": [
        "aa15=[]\n",
        "for i in range(0,len(df15[\"Genbankid\"])):\n",
        "  l=[]\n",
        "  try:\n",
        "    handle = Entrez.efetch(db='protein', id = df15[\"Genbankid\"][i] , rettype=\"fasta\")\n",
        "    a = handle.read()\n",
        "    l = a\n",
        "    k=\"\"\n",
        "    b = l.split(\"\\n\")\n",
        "    for j in b:\n",
        "      txt = j\n",
        "      if re.search(\"^[A-Z]\",txt) :\n",
        "        k+=j\n",
        "  except:\n",
        "    k=\"sequence not found\"\n",
        "  aa15.append(k)\n",
        "df15[\"seq\"]=aa15"
      ],
      "metadata": {
        "id": "p1moScl07Cy-"
      },
      "execution_count": null,
      "outputs": []
    },
    {
      "cell_type": "code",
      "source": [
        "aa16=[]\n",
        "for i in range(0,len(df16[\"Genbankid\"])):\n",
        "  l=[]\n",
        "  try:\n",
        "    handle = Entrez.efetch(db='protein', id = df16[\"Genbankid\"][i] , rettype=\"fasta\")\n",
        "    a = handle.read()\n",
        "    l = a\n",
        "    k=\"\"\n",
        "    b = l.split(\"\\n\")\n",
        "    for j in b:\n",
        "      txt = j\n",
        "      if re.search(\"^[A-Z]\",txt) :\n",
        "        k+=j\n",
        "  except:\n",
        "    k=\"sequence not found\"\n",
        "  aa16.append(k)\n",
        "df16[\"seq\"]=aa16"
      ],
      "metadata": {
        "id": "i-Df0uW-7Irc"
      },
      "execution_count": null,
      "outputs": []
    },
    {
      "cell_type": "code",
      "source": [
        "import re\n",
        "aa17=[]\n",
        "for i in range(0,len(df17[\"Genbankid\"])):\n",
        "  l=[]\n",
        "  handle = Entrez.efetch(db='protein', id = df17[\"Genbankid\"][i] , rettype=\"fasta\")\n",
        "  a = handle.read()\n",
        "  l = a\n",
        "  k=\"\"\n",
        "  b = l.split(\"\\n\")\n",
        "  for j in b:\n",
        "    txt = j\n",
        "    if re.search(\"^[A-Z]\",txt) :\n",
        "      k+=j\n",
        "  aa17.append(k)\n",
        "df17[\"seq\"]=aa17"
      ],
      "metadata": {
        "id": "weXOvQ3DHf9b",
        "colab": {
          "base_uri": "https://localhost:8080/",
          "height": 235
        },
        "outputId": "d77d9032-4aa4-4907-af5d-d44bcab159f2"
      },
      "execution_count": null,
      "outputs": [
        {
          "output_type": "error",
          "ename": "NameError",
          "evalue": "ignored",
          "traceback": [
            "\u001b[0;31m---------------------------------------------------------------------------\u001b[0m",
            "\u001b[0;31mNameError\u001b[0m                                 Traceback (most recent call last)",
            "\u001b[0;32m<ipython-input-4-b082ecf08329>\u001b[0m in \u001b[0;36m<module>\u001b[0;34m\u001b[0m\n\u001b[1;32m      3\u001b[0m \u001b[0;32mfor\u001b[0m \u001b[0mi\u001b[0m \u001b[0;32min\u001b[0m \u001b[0mrange\u001b[0m\u001b[0;34m(\u001b[0m\u001b[0;36m0\u001b[0m\u001b[0;34m,\u001b[0m\u001b[0mlen\u001b[0m\u001b[0;34m(\u001b[0m\u001b[0mdf17\u001b[0m\u001b[0;34m[\u001b[0m\u001b[0;34m\"Genbankid\"\u001b[0m\u001b[0;34m]\u001b[0m\u001b[0;34m)\u001b[0m\u001b[0;34m)\u001b[0m\u001b[0;34m:\u001b[0m\u001b[0;34m\u001b[0m\u001b[0;34m\u001b[0m\u001b[0m\n\u001b[1;32m      4\u001b[0m   \u001b[0ml\u001b[0m\u001b[0;34m=\u001b[0m\u001b[0;34m[\u001b[0m\u001b[0;34m]\u001b[0m\u001b[0;34m\u001b[0m\u001b[0;34m\u001b[0m\u001b[0m\n\u001b[0;32m----> 5\u001b[0;31m   \u001b[0mhandle\u001b[0m \u001b[0;34m=\u001b[0m \u001b[0mEntrez\u001b[0m\u001b[0;34m.\u001b[0m\u001b[0mefetch\u001b[0m\u001b[0;34m(\u001b[0m\u001b[0mdb\u001b[0m\u001b[0;34m=\u001b[0m\u001b[0;34m'protein'\u001b[0m\u001b[0;34m,\u001b[0m \u001b[0mid\u001b[0m \u001b[0;34m=\u001b[0m \u001b[0mdf17\u001b[0m\u001b[0;34m[\u001b[0m\u001b[0;34m\"Genbankid\"\u001b[0m\u001b[0;34m]\u001b[0m\u001b[0;34m[\u001b[0m\u001b[0mi\u001b[0m\u001b[0;34m]\u001b[0m \u001b[0;34m,\u001b[0m \u001b[0mrettype\u001b[0m\u001b[0;34m=\u001b[0m\u001b[0;34m\"fasta\"\u001b[0m\u001b[0;34m)\u001b[0m\u001b[0;34m\u001b[0m\u001b[0;34m\u001b[0m\u001b[0m\n\u001b[0m\u001b[1;32m      6\u001b[0m   \u001b[0ma\u001b[0m \u001b[0;34m=\u001b[0m \u001b[0mhandle\u001b[0m\u001b[0;34m.\u001b[0m\u001b[0mread\u001b[0m\u001b[0;34m(\u001b[0m\u001b[0;34m)\u001b[0m\u001b[0;34m\u001b[0m\u001b[0;34m\u001b[0m\u001b[0m\n\u001b[1;32m      7\u001b[0m   \u001b[0ml\u001b[0m \u001b[0;34m=\u001b[0m \u001b[0ma\u001b[0m\u001b[0;34m\u001b[0m\u001b[0;34m\u001b[0m\u001b[0m\n",
            "\u001b[0;31mNameError\u001b[0m: name 'Entrez' is not defined"
          ]
        }
      ]
    },
    {
      "cell_type": "code",
      "source": [
        "df9.to_csv(\"/content/drive/MyDrive/Machine_learning/AA9.csv\")"
      ],
      "metadata": {
        "id": "X8xYjArxGXmq"
      },
      "execution_count": null,
      "outputs": []
    },
    {
      "cell_type": "code",
      "source": [
        "df10.to_csv(\"/content/drive/MyDrive/Machine_learning/AA10.csv\")"
      ],
      "metadata": {
        "id": "UMAoOdSaGZpI"
      },
      "execution_count": null,
      "outputs": []
    },
    {
      "cell_type": "code",
      "source": [
        "df11.to_csv(\"/content/drive/MyDrive/Machine_learning/AA11.csv\")"
      ],
      "metadata": {
        "id": "wLU8mA00GY8P"
      },
      "execution_count": null,
      "outputs": []
    },
    {
      "cell_type": "code",
      "source": [
        "df13.to_csv(\"/content/drive/MyDrive/Machine_learning/AA13.csv\")"
      ],
      "metadata": {
        "id": "oWmEvup-Gbu5"
      },
      "execution_count": null,
      "outputs": []
    },
    {
      "cell_type": "code",
      "source": [
        "df14.to_csv(\"/content/drive/MyDrive/Machine_learning/AA14.csv\")"
      ],
      "metadata": {
        "id": "pxXeJBfhGck7"
      },
      "execution_count": null,
      "outputs": []
    },
    {
      "cell_type": "code",
      "source": [
        "df15.to_csv(\"/content/drive/MyDrive/Machine_learning/AA15.csv\")"
      ],
      "metadata": {
        "id": "HpSVwMmEGdG6"
      },
      "execution_count": null,
      "outputs": []
    },
    {
      "cell_type": "code",
      "source": [
        "df16.to_csv(\"/content/drive/MyDrive/Machine_learning/AA16.csv\")"
      ],
      "metadata": {
        "id": "xksq9ZMwGd2K"
      },
      "execution_count": null,
      "outputs": []
    },
    {
      "cell_type": "code",
      "source": [
        "df17.to_csv(\"/content/drive/MyDrive/Machine_learning/AA17.csv\")"
      ],
      "metadata": {
        "id": "YTmCgHjQCCrO"
      },
      "execution_count": null,
      "outputs": []
    },
    {
      "cell_type": "code",
      "source": [
        "from pandas.io.parsers.readers import read_csv\n",
        "df9 = read_csv(\"/content/drive/MyDrive/Machine_learning/AA9.csv\")\n",
        "df10= read_csv(\"/content/drive/MyDrive/Machine_learning/AA10.csv\")\n",
        "df11 = read_csv(\"/content/drive/MyDrive/Machine_learning/AA11.csv\")\n",
        "df13 = read_csv(\"/content/drive/MyDrive/Machine_learning/AA13.csv\")\n",
        "df14 = read_csv(\"/content/drive/MyDrive/Machine_learning/AA14.csv\")\n",
        "df15 = read_csv(\"/content/drive/MyDrive/Machine_learning/AA15.csv\")\n",
        "df16 = read_csv(\"/content/drive/MyDrive/Machine_learning/AA16.csv\")\n",
        "df17 = read_csv(\"/content/drive/MyDrive/Machine_learning/AA17.csv\")"
      ],
      "metadata": {
        "id": "CNV11dmvhunp"
      },
      "execution_count": null,
      "outputs": []
    },
    {
      "cell_type": "code",
      "source": [
        "datalist = [\"df9\",\"df10\",\"df11\",\"df13\",\"df14\",\"df15\",\"df16\"]\n",
        "id = []\n",
        "sequence = []\n",
        "a = list(df9[\"Genbankid\"])\n",
        "b = list(df10[\"Genbankid\"])\n",
        "c = list(df11[\"Genbankid\"])\n",
        "d = list(df13[\"Genbankid\"])\n",
        "e = list(df14[\"Genbankid\"])\n",
        "f = list(df15[\"Genbankid\"])\n",
        "g = list(df16[\"Genbankid\"])\n",
        "h = list(df17[\"Genbankid\"])\n",
        "id = a+b+c+d+e+f+g+h\n",
        "a1 = list(df9[\"seq\"])\n",
        "b1 = list(df10[\"seq\"])\n",
        "c1 = list(df11[\"seq\"])\n",
        "d1 = list(df13[\"seq\"])\n",
        "e1 = list(df14[\"seq\"])\n",
        "f1 = list(df15[\"seq\"])\n",
        "g1 = list(df16[\"seq\"])\n",
        "h1 = list(df17[\"seq\"])\n",
        "sequence = a1+b1+c1+d1+e1+f1+g1+h1\n"
      ],
      "metadata": {
        "id": "oLd27esT_bcP"
      },
      "execution_count": null,
      "outputs": []
    },
    {
      "cell_type": "code",
      "source": [
        "len(id)"
      ],
      "metadata": {
        "colab": {
          "base_uri": "https://localhost:8080/"
        },
        "id": "LCSHI10aMRKs",
        "outputId": "c831a02b-b5dc-4a5d-d931-c4a57b4db00d"
      },
      "execution_count": null,
      "outputs": [
        {
          "output_type": "execute_result",
          "data": {
            "text/plain": [
              "11644"
            ]
          },
          "metadata": {},
          "execution_count": 7
        }
      ]
    },
    {
      "cell_type": "code",
      "source": [
        "from pandas.io.formats.style_render import DataFrame\n",
        "\n",
        "\n",
        "df = pd.DataFrame(list(zip(id, sequence)),\n",
        "               columns =['id', 'sequence'])"
      ],
      "metadata": {
        "id": "g5yN2heS_9MD"
      },
      "execution_count": null,
      "outputs": []
    },
    {
      "cell_type": "code",
      "source": [
        "df.to_csv(\"/content/drive/MyDrive/Machine_learning/input.csv\")"
      ],
      "metadata": {
        "id": "f48oQlLrApqd"
      },
      "execution_count": null,
      "outputs": []
    },
    {
      "cell_type": "code",
      "source": [
        "#changed the file in offline"
      ],
      "metadata": {
        "id": "HluvqYtwMQDC"
      },
      "execution_count": null,
      "outputs": []
    },
    {
      "cell_type": "code",
      "source": [
        "import pandas as pd\n",
        "\n",
        "dffilter = pd.read_excel(\"input.xlsx\")"
      ],
      "metadata": {
        "id": "j-3ieuVOVbv_"
      },
      "execution_count": null,
      "outputs": []
    },
    {
      "cell_type": "code",
      "source": [
        "dffilter"
      ],
      "metadata": {
        "id": "hmbfi5mKIVXl"
      },
      "execution_count": null,
      "outputs": []
    },
    {
      "cell_type": "code",
      "source": [
        "import Bio.SeqIO as seqIO\n",
        "start=[]\n",
        "end =[]\n",
        "Region =[]\n",
        "asscession_id =[]\n",
        "fh = open(\"/content/drive/MyDrive/Machine_learning/region.txt\",\"a\")\n",
        "for i in range(0,len(dffilter[\"id\"])):\n",
        "  handle = Entrez.efetch(db='protein', id =dffilter['id'][i], rettype='gb',retmode=\"text\")\n",
        "  a = seqIO.read(handle,'gb')\n",
        "  for k in a.features:\n",
        "    b = str(k)\n",
        "    b = b.split(\"\\n\")\n",
        "    d={}\n",
        "    for j in b:\n",
        "      dat = j.split(':',1)\n",
        "      if len(dat)>=2:\n",
        "        d[dat[0]] = dat[1]\n",
        "    if d['type']==' Region':\n",
        "      check = d['    Key'].split(\",\")[1].split(\":\")[1][3:-2]\n",
        "      check1 = list(d['location'][2:-1].split(\":\"))\n",
        "      Region.append(check)\n",
        "      x=re.search(\"[0-9]+\",check1[0])\n",
        "      if x:\n",
        "        start.append(int(check1[0][x.start():x.end()]))\n",
        "      x = None\n",
        "      x=re.search(\"[0-9]+\",check1[1])\n",
        "      if x:\n",
        "        end.append(int(check1[1][x.start():x.end()]))\n",
        "      asscession_id.append(dffilter['id'][i])\n",
        "      fh.write(check)\n",
        "      fh.write(\"\\n\")\n",
        "  print(\"completed:{}\".format(i))\n",
        "\n",
        "\n",
        "df =  pd.DataFrame(list(zip(asscession_id,start,end,Region)), columns =['id', 'start','end','region'])\n",
        "df.to_csv(\"/content/drive/MyDrive/Machine_learning/info_dat.csv\")\n",
        "#manual_split_Lpmo"
      ],
      "metadata": {
        "id": "hyKSzPhKIhjy"
      },
      "execution_count": null,
      "outputs": []
    },
    {
      "cell_type": "code",
      "source": [
        "start"
      ],
      "metadata": {
        "id": "UwANzj1KFXpC"
      },
      "execution_count": null,
      "outputs": []
    },
    {
      "cell_type": "code",
      "source": [
        "b = str(a.features[2])\n",
        "b.split(\"\\n\")\n",
        "b"
      ],
      "metadata": {
        "id": "OhqxJUJMDc1l"
      },
      "execution_count": null,
      "outputs": []
    },
    {
      "cell_type": "code",
      "source": [
        "}\n",
        "f1 = open(\"file.txt\",\"a\")\n"
      ],
      "metadata": {
        "id": "_p1-malMKAD4"
      },
      "execution_count": null,
      "outputs": []
    },
    {
      "cell_type": "code",
      "source": [
        "b"
      ],
      "metadata": {
        "id": "hfl8mEzHS35Z"
      },
      "execution_count": null,
      "outputs": []
    },
    {
      "cell_type": "code",
      "source": [
        "d={}\n",
        "for j in b:\n",
        "    dat = j.split(':',1)\n",
        "    if len(dat)>=2:\n",
        "      d[dat[0]] = dat[1]\n",
        "print(d)"
      ],
      "metadata": {
        "id": "Bcr7eC3uS9w1"
      },
      "execution_count": null,
      "outputs": []
    },
    {
      "cell_type": "code",
      "source": [
        ""
      ],
      "metadata": {
        "id": "QgBOijSlTnJX"
      },
      "execution_count": null,
      "outputs": []
    }
  ]
}